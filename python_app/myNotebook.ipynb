{
 "cells": [
  {
   "cell_type": "code",
   "execution_count": 32,
   "metadata": {},
   "outputs": [
    {
     "name": "stdout",
     "output_type": "stream",
     "text": [
      "   Customer ID     Customer Name\n",
      "0          1.0          Jane Doe\n",
      "1          2.0        John Smith\n",
      "2          3.0        Dan Reeves\n",
      "3          NaN               NaN\n",
      "4          5.0    William Holden\n",
      "5          6.0     Jaztyn Forest\n",
      "6          7.0     Jackie Irving\n",
      "7          8.0  Matthew Stirling\n",
      "8          9.0         Emory Ted\n",
      "   Customer ID     Customer Name\n",
      "0          1.0          Jane Doe\n",
      "1          2.0        John Smith\n",
      "2          3.0        Dan Reeves\n",
      "4          5.0    William Holden\n",
      "5          6.0     Jaztyn Forest\n",
      "6          7.0     Jackie Irving\n",
      "7          8.0  Matthew Stirling\n",
      "8          9.0         Emory Ted\n",
      "Empty DataFrame\n",
      "Columns: [Customer ID, Customer Name]\n",
      "Index: []\n"
     ]
    }
   ],
   "source": [
    "#Loading csv customer data\n",
    "\n",
    "import pandas as pd\n",
    "\n",
    "customerRaw = pd.read_csv(\"C:/Users/Admin/Desktop/MVP_Library_Apprenticeship/python_app/raw_data/03_Library SystemCustomers.csv\")\n",
    "print(customerRaw)\n",
    "\n",
    "#Cleaning data\n",
    "\n",
    "df_cleaned = customerRaw.dropna(how='all')\n",
    "print(df_cleaned)\n",
    "\n",
    "#Dropping duplicates\n",
    "df_duplicates = df_cleaned[df_cleaned.duplicated()]\n",
    "print(df_duplicates)\n",
    "df_no_duplicates = df_duplicates.drop_duplicates()\n",
    "\n",
    "#save cleansed data\n",
    "df_cleaned.to_csv(\"customerCleaned.csv\", index=False)"
   ]
  },
  {
   "cell_type": "code",
   "execution_count": 39,
   "metadata": {},
   "outputs": [
    {
     "name": "stdout",
     "output_type": "stream",
     "text": [
      "Id                        float64\n",
      "Books                      object\n",
      "Book checkout              object\n",
      "Book Returned              object\n",
      "Days allowed to borrow     object\n",
      "Customer ID               float64\n",
      "dtype: object\n",
      "Id                               float64\n",
      "Books                             object\n",
      "Book checkout             datetime64[ns]\n",
      "Book Returned             datetime64[ns]\n",
      "Days allowed to borrow             int64\n",
      "Customer ID                      float64\n",
      "dtype: object\n"
     ]
    }
   ],
   "source": [
    "import pandas as pd\n",
    "\n",
    "bookRaw = pd.read_csv(\"C:/Users/Admin/Desktop/MVP_Library_Apprenticeship/python_app/raw_data/03_Library Systembook.csv\")\n",
    "print(bookRaw)\n",
    "\n",
    "#Cleaning data\n",
    "df_cleaned_book = bookRaw.dropna(how='all')\n",
    "\n",
    "df_cleaned_book_all = df_cleaned_book[~(df_cleaned_book[\"Books\"].isna() & df_cleaned_book[\"Customer ID\"].isna())]\n",
    "print(df_cleaned_book_all)\n",
    "\n",
    "#Dropping duplicates\n",
    "df_duplicates_book = df_cleaned_book_all[df_cleaned_book_all.duplicated()]\n",
    "#print(df_duplicates_book)\n",
    "df_no_duplicates_book = df_duplicates_book.drop_duplicates()\n",
    "\n",
    "#Cheking types\n",
    "print(df_no_duplicates_book.dtypes)\n",
    "\n",
    "#Correcting Date types\n",
    "df_no_duplicates_book['Book checkout'] = pd.to_datetime(df_no_duplicates_book['Book checkout'])\n",
    "df_no_duplicates_book['Book Returned'] = pd.to_datetime(df_no_duplicates_book['Book Returned'])\n",
    "df_no_duplicates_book['Days allowed to borrow'] = pd.to_numeric(df_no_duplicates_book['Days allowed to borrow'], errors='raise')\n",
    "print(df_no_duplicates_book.dtypes)\n",
    "\n",
    "\n",
    "#save cleansed data\n",
    "df_cleaned_book_all.to_csv(\"bookCleaned.csv\", index=False)"
   ]
  }
 ],
 "metadata": {
  "kernelspec": {
   "display_name": "base",
   "language": "python",
   "name": "python3"
  },
  "language_info": {
   "codemirror_mode": {
    "name": "ipython",
    "version": 3
   },
   "file_extension": ".py",
   "mimetype": "text/x-python",
   "name": "python",
   "nbconvert_exporter": "python",
   "pygments_lexer": "ipython3",
   "version": "3.11.7"
  }
 },
 "nbformat": 4,
 "nbformat_minor": 2
}
